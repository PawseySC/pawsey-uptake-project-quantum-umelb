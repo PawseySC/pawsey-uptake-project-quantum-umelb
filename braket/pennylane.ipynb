{
 "cells": [
  {
   "cell_type": "code",
   "execution_count": null,
   "id": "7d017973-4148-49c1-aa85-2a6ddf5fda76",
   "metadata": {},
   "outputs": [],
   "source": [
    "# general imports\n",
    "import matplotlib.pyplot as plt\n",
    "\n",
    "# magic word for producing visualizations in notebook\n",
    "%matplotlib widget\n",
    "\n",
    "import pennylane as qml\n",
    "from pennylane import numpy as np\n",
    "\n",
    "from scipy.optimize import minimize"
   ]
  },
  {
   "cell_type": "code",
   "execution_count": null,
   "id": "5ff222b8-b79c-43d5-b565-d2390a6a7376",
   "metadata": {},
   "outputs": [],
   "source": [
    "n_qubits = 6\n",
    "layers = 6\n",
    "device = qml.device(\"lightning.qubit\", wires=n_qubits)\n",
    "options = {\"maxiter\": 50}"
   ]
  },
  {
   "cell_type": "code",
   "execution_count": null,
   "id": "0aaddef8-8d17-444d-bd05-22ec27f43065",
   "metadata": {},
   "outputs": [],
   "source": [
    "global_rots = 2\n",
    "def rotations(wire, params):\n",
    "    qml.RZ(params[0], wires=wire)\n",
    "    qml.RY(params[1], wires=wire)\n",
    "    #qml.RZ(params[2], wires=wire)\n",
    "\n",
    "def entangle(n_qubits):\n",
    "    if n_qubits <= 1:\n",
    "        return\n",
    "    for ii in range(n_qubits):\n",
    "        qml.CNOT(wires=[ii, (ii+1) % n_qubits])\n",
    "\n",
    "def training_layer(n_qubits, params):\n",
    "    for ii in range(n_qubits):\n",
    "        rotations(ii, params[ii,:])\n",
    "    entangle(n_qubits)\n",
    "\n",
    "def encoding_layer(n_qubits, params):\n",
    "    for ii in range(n_qubits):\n",
    "        qml.RX(params[ii], wires=ii)"
   ]
  },
  {
   "cell_type": "code",
   "execution_count": null,
   "id": "b47d89f4-78aa-4632-af59-b8fc32ce5e43",
   "metadata": {},
   "outputs": [],
   "source": [
    "def enc_params(n_qubits):\n",
    "    params = [np.random.uniform(-2*np.pi, np.pi) for _ in range(n_qubits)]\n",
    "    return params\n",
    "\n",
    "def rot_params(n_qubits, layers):\n",
    "    params = np.empty((layers, n_qubits, global_rots), np.float64)\n",
    "    for ll in range(layers):\n",
    "        for nn in range(n_qubits):\n",
    "            for aa in range(global_rots):\n",
    "                params[ll, nn, aa] = np.random.uniform(-2*np.pi, np.pi)\n",
    "    return params"
   ]
  },
  {
   "cell_type": "code",
   "execution_count": null,
   "id": "a28d6f89-9269-4b4d-a3dc-7986fe1412e7",
   "metadata": {},
   "outputs": [],
   "source": [
    "@qml.qnode(device, diff_method=\"adjoint\")\n",
    "def circuit(n_qubits, layers, enc_params, rot_params):\n",
    "    for ii in range(layers):\n",
    "        encoding_layer(n_qubits, enc_params)\n",
    "        training_layer(n_qubits, rot_params[ii])\n",
    "    exp = qml.PauliZ(0)\n",
    "    for ii in range(1, n_qubits):\n",
    "        exp = exp @ qml.PauliZ(ii)\n",
    "    return qml.expval(exp)"
   ]
  },
  {
   "cell_type": "code",
   "execution_count": null,
   "id": "ca55ae03-4531-4b88-9a8b-2b75e29eb9d5",
   "metadata": {},
   "outputs": [],
   "source": [
    "init_enc_params = enc_params(n_qubits)\n",
    "init_rot_params = rot_params(n_qubits, layers)\n",
    "print(\"Drawing of circuit:\\n\")\n",
    "fig, ax = qml.draw_mpl(circuit)(n_qubits, layers, init_enc_params, init_rot_params)"
   ]
  },
  {
   "cell_type": "code",
   "execution_count": null,
   "id": "9d87fd2b-6416-4b87-8503-e32b723c7556",
   "metadata": {},
   "outputs": [],
   "source": [
    "def expectation(probs):\n",
    "    # use expectation value to predict efficiency\n",
    "    val = 0\n",
    "    for key, value in probs.items():\n",
    "        eig = 1\n",
    "        for char in key:\n",
    "            if char == \"1\":\n",
    "                eig *= -1\n",
    "        val += eig * value\n",
    "    return val\n",
    "\n",
    "def linmap(value, amin, amax, bmin, bmax):\n",
    "    return bmin + (bmax - bmin)/(amax - amin) * (value - amin)\n",
    "\n",
    "def map_expval(expval, start, stop):\n",
    "    return linmap(expval, -1, 1, start, stop)"
   ]
  },
  {
   "cell_type": "code",
   "execution_count": null,
   "id": "42308e63-43e2-461e-a05b-28dedd963625",
   "metadata": {},
   "outputs": [],
   "source": [
    "res = circuit(n_qubits, layers, init_enc_params, init_rot_params)\n",
    "map_expval(res, 0, 1)"
   ]
  },
  {
   "cell_type": "code",
   "execution_count": null,
   "id": "561c22c0-574a-4f87-96c2-a750c3857322",
   "metadata": {},
   "outputs": [],
   "source": [
    "def simulate_efficency(params, n_qubits, layers, circuit):\n",
    "    # classically simulate the circuit\n",
    "    # set the parameter values using the inputs argument\n",
    "    expval = circuit(n_qubits, layers, params[0], params[1])\n",
    "\n",
    "    eff = map_expval(expval, 0, 1)\n",
    "\n",
    "    return eff"
   ]
  },
  {
   "cell_type": "code",
   "execution_count": null,
   "id": "af877b78-fd2e-467f-a817-33df61bcde0b",
   "metadata": {},
   "outputs": [],
   "source": [
    "def objective_function(params, target, circuit, n_qubits, layers, tracker, verbose):\n",
    "    tracker.update({\"count\": tracker[\"count\"] + 1})\n",
    "    if verbose:\n",
    "        print(\"=\" * 80)\n",
    "        print(\"Iteration step. Cycle:\", tracker[\"count\"])\n",
    "\n",
    "    # reshape params\n",
    "    params = params.reshape((layers, n_qubits, global_rots))\n",
    "\n",
    "    def cost(params):\n",
    "        angles = target[:,0]\n",
    "        angles = np.tile(angles, (n_qubits,1))\n",
    "        return np.mean(np.square(circuit(n_qubits, layers, angles, params) - target[:,1]))\n",
    "    \n",
    "    # minimize MSE with target dataset\n",
    "    mse = cost(params)\n",
    "\n",
    "    if verbose:\n",
    "        print(\"MSE:\", mse)\n",
    "\n",
    "    # update tracker\n",
    "    tracker[\"error\"].append(mse)\n",
    "    tracker[\"params\"].append(params)\n",
    "    \n",
    "    return mse"
   ]
  },
  {
   "cell_type": "code",
   "execution_count": null,
   "id": "c0c80fd8-bf47-4421-84ad-11c8ec2e61ba",
   "metadata": {},
   "outputs": [],
   "source": [
    "def train(func, params, target, circuit, n_qubits, layers, options, tracker, opt_method=\"cobyla\", verbose=True):\n",
    "    \"\"\"Function to train VQE\"\"\"\n",
    "    print(\"Starting the training.\")\n",
    "\n",
    "    print(\"=\" * 80)\n",
    "    print(f\"OPTIMIZATION for {n_qubits} qubits, {layers} layers\")\n",
    "\n",
    "    if not verbose:\n",
    "        print('Param \"verbose\" set to False. Will not print intermediate steps.')\n",
    "        print(\"=\" * 80)\n",
    "\n",
    "    # parameter bounds\n",
    "    params = params.flatten()\n",
    "    bounds = params_bounds(params)\n",
    "\n",
    "    # run classical optimization (example: method='Nelder-Mead')\n",
    "    result = minimize(\n",
    "        func,\n",
    "        params,\n",
    "        args=(target, circuit, n_qubits, layers, tracker, verbose),\n",
    "        bounds=bounds,\n",
    "        options=options,\n",
    "        method=opt_method,\n",
    "    )\n",
    "\n",
    "    # store result of classical optimization\n",
    "    # store result of classical optimization\n",
    "    cost = result.fun\n",
    "    print(\"Final cost:\", cost)\n",
    "    result_angles = result.x\n",
    "    print(\"Final angles:\", result_angles)\n",
    "    print(\"Training complete.\")\n",
    "\n",
    "    return cost, params, tracker\n",
    "\n",
    "def params_bounds(params_list):\n",
    "    return [(0, 2 * np.pi) for _ in range(len(params_list))]"
   ]
  },
  {
   "cell_type": "code",
   "execution_count": null,
   "id": "b348009f-a16d-44a3-a7fb-f449ac8acc21",
   "metadata": {},
   "outputs": [],
   "source": [
    "target = np.loadtxt(\"multall_runs.csv\", delimiter=\",\", usecols=(3,12), skiprows = 1)\n",
    "adelta = 1.5\n",
    "tdelta = 5e-4\n",
    "tmin = np.min(target[:,1]) - tdelta\n",
    "tmax = np.max(target[:,1]) + tdelta\n",
    "for ii in range(target.shape[0]):\n",
    "    target[ii,0] = linmap(target[ii,0], -20, 20, 0+adelta, 2*np.pi-adelta)\n",
    "    target[ii,1] = linmap(target[ii,1], tmin, tmax, -1, 1)"
   ]
  },
  {
   "cell_type": "code",
   "execution_count": null,
   "id": "faf16b3d-2b0f-4ffc-9644-a178214a5572",
   "metadata": {},
   "outputs": [],
   "source": [
    "def new_tracker():\n",
    "    tracker = {\n",
    "        \"count\": 0,  # Elapsed optimization steps\n",
    "        \"error\": [],  # Error at each step\n",
    "        \"params\": [],  # Track parameters\n",
    "    }\n",
    "    return tracker"
   ]
  },
  {
   "cell_type": "code",
   "execution_count": null,
   "id": "2a1f5fbf-1a64-4db9-b4d9-a1497b22f0b4",
   "metadata": {},
   "outputs": [],
   "source": [
    "# set tracker to keep track of results\n",
    "tracker = new_tracker()\n",
    "init_params = rot_params(n_qubits, layers)\n",
    "#fcost, fparam, tracker = train(objective_function, init_params, target, circuit, n_qubits, layers, options, tracker)"
   ]
  },
  {
   "cell_type": "code",
   "execution_count": null,
   "id": "ca63663d-a0ac-4d12-bb4e-90a79503ee47",
   "metadata": {},
   "outputs": [],
   "source": [
    "plt.figure()\n",
    "plt.plot(tracker[\"error\"])\n",
    "plt.show()"
   ]
  },
  {
   "cell_type": "code",
   "execution_count": null,
   "id": "a1ce524d-226e-4751-8a77-1bca77628549",
   "metadata": {},
   "outputs": [],
   "source": [
    "def train_opt(opt, params, target, circuit, n_qubits, layers, options, tracker, verbose=True):\n",
    "    \"\"\"Function to train VQE\"\"\"\n",
    "    print(\"Starting the training.\")\n",
    "\n",
    "    print(\"=\" * 80)\n",
    "    print(f\"OPTIMIZATION for {n_qubits} qubits, {layers} layers\")\n",
    "\n",
    "    if not verbose:\n",
    "        print('Param \"verbose\" set to False. Will not print intermediate steps.')\n",
    "        print(\"=\" * 80)\n",
    "\n",
    "    def cost(params):\n",
    "        angles = target[:,0]\n",
    "        angles = np.tile(angles, (n_qubits,1))\n",
    "        return np.mean(np.square(circuit(n_qubits, layers, angles, params) - target[:,1]))\n",
    "    \n",
    "    for i in range(options[\"maxiter\"]):\n",
    "        tracker.update({\"count\": tracker[\"count\"] + 1})\n",
    "        if verbose:\n",
    "            print(\"=\" * 80)\n",
    "            print(\"Iteration step. Cycle:\", tracker[\"count\"])\n",
    "\n",
    "        params, mse = opt.step_and_cost(cost, params)\n",
    "\n",
    "        if verbose:\n",
    "            print(\"MSE:\", mse)\n",
    "\n",
    "        # update tracker\n",
    "        tracker[\"error\"].append(mse)\n",
    "        tracker[\"params\"].append(params)\n",
    "\n",
    "    # final run\n",
    "    tracker[\"error\"].append(cost(params))\n",
    "    tracker[\"params\"].append(params)\n",
    "\n",
    "    minid = np.argmin(tracker[\"error\"], requires_grad=False)\n",
    "    cost = tracker[\"error\"][minid]\n",
    "    params = tracker[\"params\"][minid]\n",
    "    print(\"Final cost:\", cost)\n",
    "    print(\"Final angles:\", params)\n",
    "    print(\"Training complete.\")\n",
    "\n",
    "    return cost, params, tracker"
   ]
  },
  {
   "cell_type": "code",
   "execution_count": null,
   "id": "9d24e0b9-bedc-480f-899b-1e44d8942ccb",
   "metadata": {},
   "outputs": [],
   "source": [
    "tracker1 = new_tracker()\n",
    "opt = qml.AdamOptimizer(0.1)\n",
    "#fcost1, fparam1, tracker1 = train_opt(opt, init_params, target, circuit, n_qubits, layers, options, tracker1)"
   ]
  },
  {
   "cell_type": "code",
   "execution_count": null,
   "id": "c6183d16-9b92-48d2-8499-07b4eeff3615",
   "metadata": {},
   "outputs": [],
   "source": [
    "plt.figure()\n",
    "plt.plot(tracker1[\"error\"])\n",
    "plt.show()"
   ]
  },
  {
   "cell_type": "code",
   "execution_count": null,
   "id": "b760163c-7938-4473-b20a-a67478c81e16",
   "metadata": {},
   "outputs": [],
   "source": [
    "#fparam1 = np.load(\"adam.npy\")\n",
    "\n",
    "# run circuit with final parameters\n",
    "angles = np.linspace(0, 2*np.pi, 100)\n",
    "angles = np.tile(angles, (n_qubits,1))\n",
    "#out = circuit(n_qubits, layers, angles, fparam.reshape(layers, n_qubits, global_rots))\n",
    "out1 = circuit(n_qubits, layers, angles, fparam1)\n",
    "\n",
    "plt.figure()\n",
    "#plt.plot(target[:,0], out)\n",
    "plt.plot(angles[0,:], out1)\n",
    "plt.plot(target[:,0], target[:,1])\n",
    "plt.show()"
   ]
  }
 ],
 "metadata": {
  "kernelspec": {
   "display_name": "Python 3 (ipykernel)",
   "language": "python",
   "name": "python3"
  },
  "language_info": {
   "codemirror_mode": {
    "name": "ipython",
    "version": 3
   },
   "file_extension": ".py",
   "mimetype": "text/x-python",
   "name": "python",
   "nbconvert_exporter": "python",
   "pygments_lexer": "ipython3",
   "version": "3.12.10"
  }
 },
 "nbformat": 4,
 "nbformat_minor": 5
}
