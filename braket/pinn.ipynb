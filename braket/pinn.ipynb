{
 "cells": [
  {
   "cell_type": "code",
   "execution_count": null,
   "id": "7d017973-4148-49c1-aa85-2a6ddf5fda76",
   "metadata": {},
   "outputs": [],
   "source": [
    "# general imports\n",
    "import matplotlib.pyplot as plt\n",
    "\n",
    "# magic word for producing visualizations in notebook\n",
    "%matplotlib widget\n",
    "\n",
    "from braket.circuits import Circuit\n",
    "from braket.devices import LocalSimulator\n",
    "\n",
    "import pennylane as qml\n",
    "from pennylane import numpy as np"
   ]
  },
  {
   "cell_type": "code",
   "execution_count": null,
   "id": "5ff222b8-b79c-43d5-b565-d2390a6a7376",
   "metadata": {},
   "outputs": [],
   "source": [
    "wires = 4\n",
    "layers = 2\n",
    "device = qml.device(\"default.qubit\", wires=wires)"
   ]
  },
  {
   "cell_type": "code",
   "execution_count": null,
   "id": "0aaddef8-8d17-444d-bd05-22ec27f43065",
   "metadata": {},
   "outputs": [],
   "source": [
    "def rotations(params, wire):\n",
    "    qml.RZ(params[0], wires=wire)\n",
    "    qml.RY(params[1], wires=wire)\n",
    "    qml.RZ(params[2], wires=wire)\n",
    "\n",
    "def entangle():\n",
    "    if wires <= 0:\n",
    "        return\n",
    "    for ii in range(wires):\n",
    "        qml.CNOT(wires=[ii, (ii+1) % wires])\n",
    "\n",
    "def training_layer(params):\n",
    "    for ii in range(wires):\n",
    "        rotations(params[ii,:], ii)\n",
    "    entangle()\n",
    "\n",
    "def encoding_layer(params):\n",
    "    for ii in range(wires):\n",
    "        qml.RX(params[ii], wires=ii)"
   ]
  },
  {
   "cell_type": "code",
   "execution_count": null,
   "id": "a28d6f89-9269-4b4d-a3dc-7986fe1412e7",
   "metadata": {},
   "outputs": [],
   "source": [
    "@qml.qnode(device, diff_method=\"adjoint\")\n",
    "def circuit(enc_params, rot_params):\n",
    "    for ii in range(layers):\n",
    "        encoding_layer(enc_params[ii])\n",
    "        training_layer(rot_params[ii])\n",
    "    return qml.expval(qml.PauliZ(0) @ qml.PauliZ(wires-1))"
   ]
  },
  {
   "cell_type": "code",
   "execution_count": null,
   "id": "9a05299c-06d3-4cf5-98ba-e74a5d00b9ed",
   "metadata": {},
   "outputs": [],
   "source": [
    "init_enc_params = np.array([0.1]*wires, requires_grad=True)\n",
    "init_enc_params = np.tile(init_enc_params, (layers,) + (1,))\n",
    "init_rot_params = np.array([[0.1, 0.2, 0.3]]*wires, requires_grad=True)\n",
    "init_rot_params = np.tile(init_rot_params, (layers,) + (1,1))\n",
    "print(init_enc_params)\n",
    "print(init_rot_params)"
   ]
  },
  {
   "cell_type": "code",
   "execution_count": null,
   "id": "ca55ae03-4531-4b88-9a8b-2b75e29eb9d5",
   "metadata": {},
   "outputs": [],
   "source": [
    "print(\"Drawing of circuit:\\n\")\n",
    "fig, ax = qml.draw_mpl(circuit)(init_enc_params, init_rot_params)"
   ]
  },
  {
   "cell_type": "code",
   "execution_count": null,
   "id": "205fc961-6471-40bb-a013-c741facd5a0d",
   "metadata": {},
   "outputs": [],
   "source": [
    "opt = qml.GradientDescentOptimizer(stepsize=0.1)"
   ]
  },
  {
   "cell_type": "code",
   "execution_count": null,
   "id": "2a1f5fbf-1a64-4db9-b4d9-a1497b22f0b4",
   "metadata": {},
   "outputs": [],
   "source": [
    "iterations = 20\n",
    "\n",
    "costs = []\n",
    "\n",
    "enc_params = init_enc_params\n",
    "rot_params = init_rot_params\n",
    "\n",
    "for i in range(iterations):\n",
    "    params, cost = opt.step_and_cost(circuit, enc_params, rot_params)\n",
    "    enc_params, rot_params = params\n",
    "    costs.append(cost)\n",
    "\n",
    "# Visualize results\n",
    "costs.append(circuit(enc_params, rot_params))\n",
    "plt.figure()\n",
    "plt.plot(costs, \"-o\")\n",
    "plt.xlabel(\"Iterations\")\n",
    "plt.ylabel(\"Cost\")\n",
    "\n",
    "print(\"Minimized circuit output:\", circuit(enc_params, rot_params))\n",
    "print(\"Optimized parameters:\", params)"
   ]
  }
 ],
 "metadata": {
  "kernelspec": {
   "display_name": "Python 3 (ipykernel)",
   "language": "python",
   "name": "python3"
  },
  "language_info": {
   "codemirror_mode": {
    "name": "ipython",
    "version": 3
   },
   "file_extension": ".py",
   "mimetype": "text/x-python",
   "name": "python",
   "nbconvert_exporter": "python",
   "pygments_lexer": "ipython3",
   "version": "3.12.10"
  }
 },
 "nbformat": 4,
 "nbformat_minor": 5
}
