{
 "cells": [
  {
   "cell_type": "markdown",
   "id": "e4827913-0125-47ae-adfd-0507f86ea770",
   "metadata": {},
   "source": [
    "# Fully entangled PQC using Amazon Braket\n",
    "\n",
    "Very similar example [here](https://github.com/amazon-braket/amazon-braket-examples/tree/main/examples/hybrid_quantum_algorithms/QAOA)\n",
    "and code adapts from it."
   ]
  },
  {
   "cell_type": "code",
   "execution_count": null,
   "id": "4a75dfb9-f164-4839-9893-c29d1e2bc394",
   "metadata": {},
   "outputs": [],
   "source": [
    "# general imports\n",
    "import matplotlib.pyplot as plt\n",
    "\n",
    "# magic word for producing visualizations in notebook\n",
    "%matplotlib widget\n",
    "\n",
    "from braket.circuits import Circuit\n",
    "from braket.circuits import FreeParameter\n",
    "from braket.devices import LocalSimulator\n",
    "from braket.circuits.observables import Z\n",
    "\n",
    "import numpy as np\n",
    "from scipy.optimize import minimize"
   ]
  },
  {
   "cell_type": "code",
   "execution_count": null,
   "id": "680669f1-1bc5-441b-842d-8236a83ead79",
   "metadata": {},
   "outputs": [],
   "source": [
    "# Ensure consistent results\n",
    "np.random.seed(0)\n",
    "\n",
    "# Set up device: Local Simulator\n",
    "device = LocalSimulator()"
   ]
  },
  {
   "cell_type": "code",
   "execution_count": null,
   "id": "88dfabe8-f2af-45b6-be86-8a1561f5c9d1",
   "metadata": {},
   "outputs": [],
   "source": [
    "def rotations(wire, params):\n",
    "    circuit = Circuit()\n",
    "    circuit.rz(wire, params[0])\n",
    "    circuit.ry(wire, params[1])\n",
    "    circuit.rz(wire, params[2])\n",
    "    return circuit\n",
    "\n",
    "def entangle(n_qubits):\n",
    "    circuit = Circuit()\n",
    "    if n_qubits <= 1:\n",
    "        return circuit\n",
    "    for ii in range(n_qubits):\n",
    "        circuit.cnot(ii, (ii + 1) % n_qubits)\n",
    "    return circuit\n",
    "\n",
    "def training_layer(n_qubits, params):\n",
    "    circuit = Circuit()\n",
    "    for ii in range(n_qubits):\n",
    "        circuit.add(rotations(ii, params[ii,:]))\n",
    "    circuit.add(entangle(n_qubits))\n",
    "    return circuit\n",
    "\n",
    "def encoding_layer(n_qubits, params):\n",
    "    circuit = Circuit()\n",
    "    for ii in range(n_qubits):\n",
    "        circuit.rx(ii, params[ii])\n",
    "    return circuit"
   ]
  },
  {
   "cell_type": "code",
   "execution_count": null,
   "id": "e8b826a1-7bfd-4c6b-ad8d-99b745397110",
   "metadata": {},
   "outputs": [],
   "source": [
    "def enc_params(n_qubits, layers):\n",
    "    params = np.empty((n_qubits), object)\n",
    "    for nn in range(n_qubits):\n",
    "        name = f\"enc_q_{nn}\"\n",
    "        params[nn] = FreeParameter(name)\n",
    "    return params\n",
    "\n",
    "def rot_params(n_qubits, layers):\n",
    "    params = np.empty((layers, n_qubits, 3), object)\n",
    "    for ll in range(layers):\n",
    "        for nn in range(n_qubits):\n",
    "            for aa in range(3):\n",
    "                name = f\"rot_l_{ll}_q_{nn}_a_{aa}\"\n",
    "                params[ll, nn, aa] = FreeParameter(name)\n",
    "    return params"
   ]
  },
  {
   "cell_type": "raw",
   "id": "6e3b2bd5-ffd7-4194-846f-6cf0b615765b",
   "metadata": {},
   "source": [
    "init_enc_params = enc_params(n_qubits, layers)\n",
    "init_rot_params = rot_params(n_qubits, layers)\n",
    "print(rotations(1,init_rot_params[0,0,:]))\n",
    "print(entangle(n_qubits))\n",
    "print(training_layer(n_qubits, init_rot_params[0, :]))\n",
    "print(encoding_layer(n_qubits, init_enc_params[0, :]))"
   ]
  },
  {
   "cell_type": "code",
   "execution_count": null,
   "id": "b6248f66-8e45-4957-aa47-11c842c4fd13",
   "metadata": {},
   "outputs": [],
   "source": [
    "def circuit(n_qubits, layers):\n",
    "    circuit = Circuit()\n",
    "    free_enc_params = enc_params(n_qubits, layers)\n",
    "    free_rot_params = rot_params(n_qubits, layers)\n",
    "    for ii in range(layers):\n",
    "        # data reencoding every layer\n",
    "        circuit.add(encoding_layer(n_qubits, free_enc_params))\n",
    "        circuit.add(training_layer(n_qubits, free_rot_params[ii]))\n",
    "    return circuit"
   ]
  },
  {
   "cell_type": "code",
   "execution_count": null,
   "id": "3b00874d-bbd0-4ea7-85cc-78070f7b8e03",
   "metadata": {},
   "outputs": [],
   "source": [
    "n_qubits = 3\n",
    "layers = 3"
   ]
  },
  {
   "cell_type": "code",
   "execution_count": null,
   "id": "1ae24a05-cbc3-4ffe-b3c8-305bccc47af2",
   "metadata": {},
   "outputs": [],
   "source": [
    "print(circuit(n_qubits, layers))"
   ]
  },
  {
   "cell_type": "code",
   "execution_count": null,
   "id": "7dcfdd90-211a-49e7-a75a-8cfb1547af47",
   "metadata": {},
   "outputs": [],
   "source": [
    "def init_params(n_qubits, layers, angles):\n",
    "    params = {}\n",
    "    for nn in range(n_qubits):\n",
    "        name = f\"enc_q_{nn}\"\n",
    "        params[name] = angles[nn]\n",
    "    for ll in range(layers):\n",
    "        for nn in range(n_qubits):\n",
    "            for aa in range(3):\n",
    "                name = f\"rot_l_{ll}_q_{nn}_a_{aa}\"\n",
    "                params[name] = np.random.uniform(0, 2*np.pi)\n",
    "    return params\n",
    "\n",
    "def params_dict2list(n_qubits, layers, params_dict):\n",
    "    params_list = []\n",
    "    for nn in range(n_qubits):\n",
    "        name = f\"enc_q_{nn}\"\n",
    "        params_list.append(params_dict[name])\n",
    "    for ll in range(layers):\n",
    "        for nn in range(n_qubits):\n",
    "            for aa in range(3):\n",
    "                name = f\"rot_l_{ll}_q_{nn}_a_{aa}\"\n",
    "                params_list.append(params_dict[name])\n",
    "    return params_list\n",
    "\n",
    "def params_list2dict(n_qubits, layers, params_list):\n",
    "    params_dict = {}\n",
    "    ii = 0\n",
    "    for nn in range(n_qubits):\n",
    "        name = f\"enc_q_{nn}\"\n",
    "        params_dict[name] = params_list[ii]\n",
    "        ii += 1\n",
    "    for ll in range(layers):\n",
    "        for nn in range(n_qubits):\n",
    "            for aa in range(3):\n",
    "                name = f\"rot_l_{ll}_q_{nn}_a_{aa}\"\n",
    "                params_dict[name] = params_list[ii]\n",
    "                ii += 1\n",
    "    return params_dict\n",
    "\n",
    "def params_bounds(n_qubits, layers):\n",
    "    return [(0, 2 * np.pi) for _ in range(layers * n_qubits * 3)]"
   ]
  },
  {
   "cell_type": "code",
   "execution_count": null,
   "id": "27262817-93eb-4480-a037-c311230f1761",
   "metadata": {},
   "outputs": [],
   "source": [
    "angles = np.tile(1.0, (3))\n",
    "params0 = init_params(n_qubits, layers, angles)\n",
    "params_list = params_dict2list(n_qubits, layers, params0)\n",
    "params_list2dict(n_qubits, layers, params_list) == params0"
   ]
  },
  {
   "cell_type": "code",
   "execution_count": null,
   "id": "63a7b441-f76f-42eb-be0d-f20a5d8fec0b",
   "metadata": {},
   "outputs": [],
   "source": [
    "device.run(circuit(n_qubits, layers), shots = 1000, inputs = init_params(n_qubits, layers, angles)).result()"
   ]
  },
  {
   "cell_type": "code",
   "execution_count": null,
   "id": "bb4a9e8f-08a6-434c-bec7-1159771761dd",
   "metadata": {},
   "outputs": [],
   "source": [
    "def expectation(probs):\n",
    "    # use expectation value to predict efficiency\n",
    "    val = 0\n",
    "    for key, value in probs.items():\n",
    "        eig = 1\n",
    "        for char in key:\n",
    "            if char == \"1\":\n",
    "                eig *= -1\n",
    "        val += eig * value\n",
    "    return val\n",
    "\n",
    "def linmap(value, amin, amax, bmin, bmax):\n",
    "    return bmin + (bmax - bmin)/(amax - amin) * (value - amin)\n",
    "\n",
    "def map_expval(expval, start, stop):\n",
    "    return linmap(expval, -1, 1, start, stop)"
   ]
  },
  {
   "cell_type": "code",
   "execution_count": null,
   "id": "f8c43f0a-2651-404d-bfed-8078d12727bd",
   "metadata": {},
   "outputs": [],
   "source": [
    "def simulate_efficency(params, n_qubits, layers, circuit, device, shots):\n",
    "    params_dict = params_list2dict(n_qubits, layers, params)\n",
    "    # classically simulate the circuit\n",
    "    # set the parameter values using the inputs argument\n",
    "    # execute the correct device.run call depending on whether the backend is local or cloud based\n",
    "    if isinstance(device, LocalSimulator):\n",
    "        task = device.run(circuit, inputs=params_dict, shots=shots)\n",
    "    else:\n",
    "        task = device.run(\n",
    "            circuit,\n",
    "            shots=shots,\n",
    "            inputs=params_dict,\n",
    "            poll_timeout_seconds=3 * 24 * 60 * 60,\n",
    "        )\n",
    "\n",
    "    # get result for this task\n",
    "    result = task.result()\n",
    "    if shots == 0:\n",
    "        # results assumed in index 0\n",
    "        expval = result.values[0]\n",
    "    else:\n",
    "        measurement_probabilities = result.measurement_probabilities\n",
    "        expval = expectation(measurement_probabilities)\n",
    "\n",
    "    eff = map_expval(expval, 0, 1)\n",
    "\n",
    "    return eff"
   ]
  },
  {
   "cell_type": "code",
   "execution_count": null,
   "id": "78220592-7396-405d-ab34-7ffaffd975cb",
   "metadata": {},
   "outputs": [],
   "source": [
    "def objective_function(params, target, n_qubits, layers, circuit, device, shots, tracker, verbose):\n",
    "    tracker.update({\"count\": tracker[\"count\"] + 1})\n",
    "    if verbose:\n",
    "        print(\"=\" * 80)\n",
    "        print(\"Iteration step. Cycle:\", tracker[\"count\"])\n",
    "\n",
    "    # minimize RMS difference with target dataset\n",
    "    diff = []\n",
    "    for ii in range(target.shape[0]):\n",
    "        angle = target[ii,0]\n",
    "        eff = target[ii,1]\n",
    "        angles = np.tile(angle, (3))\n",
    "        params_list = np.concatenate((angles, params))\n",
    "        simeff = simulate_efficency(params_list, n_qubits, layers, circ, device, shots)\n",
    "        diff.append(simeff - eff)\n",
    "    s = np.asarray(diff)\n",
    "    s = np.square(s)\n",
    "    rms = np.sqrt(np.mean(s))\n",
    "\n",
    "    if verbose:\n",
    "        print(\"RMS:\", rms)\n",
    "\n",
    "    # update tracker\n",
    "    tracker[\"rms\"].append(rms)\n",
    "    tracker[\"params\"].append(params)\n",
    "    \n",
    "    return rms"
   ]
  },
  {
   "cell_type": "code",
   "execution_count": null,
   "id": "17f9edab-c641-44e4-8423-8efd877f5258",
   "metadata": {},
   "outputs": [],
   "source": [
    "circ = circuit(n_qubits, layers)\n",
    "circ.expectation(Z(0) @ Z(1) @ Z(2))\n",
    "angles = np.tile(1.0, (3))\n",
    "params = init_params(n_qubits, layers, angles)\n",
    "params = np.asarray(params_dict2list(n_qubits, layers, params))\n",
    "simulate_efficency(params, n_qubits, layers, circ, device, 100)"
   ]
  },
  {
   "cell_type": "markdown",
   "id": "2bed5d2f-5b72-4559-b3b5-c9187d5cf5c1",
   "metadata": {},
   "source": [
    "## Check convergence of shot count"
   ]
  },
  {
   "cell_type": "code",
   "execution_count": null,
   "id": "ced5dbee-0396-436f-ba05-4251a9272e10",
   "metadata": {},
   "outputs": [],
   "source": [
    "def shot_conv(shots_list, angle, n_qubits, layers, circ, device):\n",
    "    angles = np.tile(angle, (3))\n",
    "    params = init_params(n_qubits, layers, angles)\n",
    "    params = np.asarray(params_dict2list(n_qubits, layers, params))\n",
    "    eff = []\n",
    "    for shots in shots_list:\n",
    "        eff.append(simulate_efficency(params, n_qubits, layers, circ, device, shots))\n",
    "    return eff"
   ]
  },
  {
   "cell_type": "code",
   "execution_count": null,
   "id": "0c6503c3-c628-4acf-80b2-6735e8583d56",
   "metadata": {},
   "outputs": [],
   "source": [
    "X = range(0,10000,200)\n",
    "Y = shot_conv(X, 1.0, n_qubits, layers, circ, device)"
   ]
  },
  {
   "cell_type": "code",
   "execution_count": null,
   "id": "b27440c7-1e83-452a-8627-b2d14bd66ae1",
   "metadata": {},
   "outputs": [],
   "source": [
    "plt.clf()\n",
    "plt.plot(X, Y)\n",
    "plt.show()"
   ]
  },
  {
   "cell_type": "markdown",
   "id": "a7a494b2-0b5d-4d67-81b7-58ecd53a3281",
   "metadata": {},
   "source": [
    "# Train PQC"
   ]
  },
  {
   "cell_type": "code",
   "execution_count": null,
   "id": "5b61b83b-73bf-4bd2-aca6-e30c0b09c37d",
   "metadata": {},
   "outputs": [],
   "source": [
    "def train(func, n_qubits, layers, device, shots, tracker, target, options, opt_method=\"cobyla\", verbose=True):\n",
    "    \"\"\"Function to train VQE\"\"\"\n",
    "    print(\"Starting the training.\")\n",
    "\n",
    "    print(\"=\" * 80)\n",
    "    print(f\"OPTIMIZATION for {n_qubits} qubits, {layers} layers\")\n",
    "\n",
    "    if not verbose:\n",
    "        print('Param \"verbose\" set to False. Will not print intermediate steps.')\n",
    "        print(\"=\" * 80)\n",
    "\n",
    "    # randomly initialize variational parameters\n",
    "    params = [np.random.uniform(0, 2*np.pi) for _ in range(n_qubits * layers * 3)]\n",
    "\n",
    "    # set bounds for search space\n",
    "    bounds = params_bounds(n_qubits, layers)\n",
    "\n",
    "    circ = circuit(n_qubits, layers)\n",
    "\n",
    "    # run classical optimization (example: method='Nelder-Mead')\n",
    "    result = minimize(\n",
    "        func,\n",
    "        np.asarray(params),\n",
    "        args=(target, n_qubits, layers, circ, device, shots, tracker, verbose),\n",
    "        bounds=bounds,\n",
    "        options=options,\n",
    "        method=opt_method,\n",
    "    )\n",
    "\n",
    "    # store result of classical optimization\n",
    "    cost = result.fun\n",
    "    print(\"Final cost:\", cost)\n",
    "    result_angles = result.x\n",
    "    print(\"Final angles:\", result_angles)\n",
    "    print(\"Training complete.\")\n",
    "\n",
    "    return cost, result_angles, tracker"
   ]
  },
  {
   "cell_type": "code",
   "execution_count": null,
   "id": "c0f38999-9580-431c-ae7e-935491c6afe2",
   "metadata": {},
   "outputs": [],
   "source": [
    "# set tracker to keep track of results\n",
    "tracker = {\n",
    "    \"count\": 0,  # Elapsed optimization steps\n",
    "    \"rms\": [],  # RMS at each step\n",
    "    \"params\": [],  # Track parameters\n",
    "}\n",
    "\n",
    "options = {\"maxiter\": 20}\n",
    "target = np.loadtxt(\"multall_runs.csv\", delimiter=\",\", usecols=(3,12), skiprows = 1)\n",
    "for ii in range(target.shape[0]):\n",
    "    target[ii,0] = linmap(target[ii,0], -20, 20, 0, 2*np.pi)"
   ]
  },
  {
   "cell_type": "code",
   "execution_count": null,
   "id": "0127627d-23fe-4bd1-824e-c006df717c2e",
   "metadata": {},
   "outputs": [],
   "source": [
    "train(objective_function, n_qubits, layers, device, 2000, tracker, target, options)"
   ]
  }
 ],
 "metadata": {
  "kernelspec": {
   "display_name": "Python 3 (ipykernel)",
   "language": "python",
   "name": "python3"
  },
  "language_info": {
   "codemirror_mode": {
    "name": "ipython",
    "version": 3
   },
   "file_extension": ".py",
   "mimetype": "text/x-python",
   "name": "python",
   "nbconvert_exporter": "python",
   "pygments_lexer": "ipython3",
   "version": "3.12.10"
  }
 },
 "nbformat": 4,
 "nbformat_minor": 5
}
