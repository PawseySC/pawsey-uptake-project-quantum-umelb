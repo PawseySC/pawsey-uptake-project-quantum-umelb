{
 "cells": [
  {
   "cell_type": "markdown",
   "id": "e4827913-0125-47ae-adfd-0507f86ea770",
   "metadata": {},
   "source": [
    "# Fully entangled PQC using Amazon Braket\n",
    "\n",
    "Very similar example [here](https://github.com/amazon-braket/amazon-braket-examples/tree/main/examples/hybrid_quantum_algorithms/QAOA)\n",
    "and code adapts from it."
   ]
  },
  {
   "cell_type": "code",
   "execution_count": null,
   "id": "4a75dfb9-f164-4839-9893-c29d1e2bc394",
   "metadata": {},
   "outputs": [],
   "source": [
    "# general imports\n",
    "import matplotlib.pyplot as plt\n",
    "\n",
    "# magic word for producing visualizations in notebook\n",
    "%matplotlib widget\n",
    "\n",
    "from braket.circuits import Circuit\n",
    "from braket.circuits import FreeParameter\n",
    "from braket.devices import LocalSimulator\n",
    "from braket.circuits.observables import Z\n",
    "\n",
    "import numpy as np"
   ]
  },
  {
   "cell_type": "code",
   "execution_count": null,
   "id": "680669f1-1bc5-441b-842d-8236a83ead79",
   "metadata": {},
   "outputs": [],
   "source": [
    "# Ensure consistent results\n",
    "np.random.seed(0)\n",
    "\n",
    "# Set up device: Local Simulator\n",
    "device = LocalSimulator()"
   ]
  },
  {
   "cell_type": "code",
   "execution_count": null,
   "id": "88dfabe8-f2af-45b6-be86-8a1561f5c9d1",
   "metadata": {},
   "outputs": [],
   "source": [
    "def rotations(wire, params):\n",
    "    circuit = Circuit()\n",
    "    circuit.rz(wire, params[0])\n",
    "    circuit.ry(wire, params[1])\n",
    "    circuit.rz(wire, params[2])\n",
    "    return circuit\n",
    "\n",
    "def entangle(n_qubits):\n",
    "    circuit = Circuit()\n",
    "    if n_qubits <= 0:\n",
    "        return circuit\n",
    "    for ii in range(n_qubits):\n",
    "        circuit.cnot(ii, (ii + 1) % n_qubits)\n",
    "    return circuit\n",
    "\n",
    "def training_layer(n_qubits, params):\n",
    "    circuit = Circuit()\n",
    "    for ii in range(n_qubits):\n",
    "        circuit.add(rotations(ii, params[ii,:]))\n",
    "    circuit.add(entangle(n_qubits))\n",
    "    return circuit\n",
    "\n",
    "def encoding_layer(n_qubits, params):\n",
    "    circuit = Circuit()\n",
    "    for ii in range(n_qubits):\n",
    "        circuit.rx(ii, params[ii])\n",
    "    return circuit"
   ]
  },
  {
   "cell_type": "code",
   "execution_count": null,
   "id": "3b00874d-bbd0-4ea7-85cc-78070f7b8e03",
   "metadata": {},
   "outputs": [],
   "source": [
    "n_qubits = 3\n",
    "layers = 2"
   ]
  },
  {
   "cell_type": "code",
   "execution_count": null,
   "id": "e8b826a1-7bfd-4c6b-ad8d-99b745397110",
   "metadata": {},
   "outputs": [],
   "source": [
    "def enc_params(n_qubits, layers):\n",
    "    params = np.empty((layers, n_qubits), object)\n",
    "    for ll in range(layers):\n",
    "        for nn in range(n_qubits):\n",
    "            name = f\"enc_l_{ll}_q_{nn}\"\n",
    "            params[ll, nn] = FreeParameter(name)\n",
    "    return params\n",
    "\n",
    "def rot_params(n_qubits, layers):\n",
    "    params = np.empty((layers, n_qubits, 3), object)\n",
    "    for ll in range(layers):\n",
    "        for nn in range(n_qubits):\n",
    "            for aa in range(3):\n",
    "                name = f\"rot_l_{ll}_q_{nn}_a_{aa}\"\n",
    "                params[ll, nn, aa] = FreeParameter(name)\n",
    "    return params"
   ]
  },
  {
   "cell_type": "raw",
   "id": "6e3b2bd5-ffd7-4194-846f-6cf0b615765b",
   "metadata": {},
   "source": [
    "init_enc_params = enc_params(n_qubits, layers)\n",
    "init_rot_params = rot_params(n_qubits, layers)\n",
    "print(rotations(1,init_rot_params[0,0,:]))\n",
    "print(entangle(n_qubits))\n",
    "print(training_layer(n_qubits, init_rot_params[0, :]))\n",
    "print(encoding_layer(n_qubits, init_enc_params[0, :]))"
   ]
  },
  {
   "cell_type": "code",
   "execution_count": null,
   "id": "b6248f66-8e45-4957-aa47-11c842c4fd13",
   "metadata": {},
   "outputs": [],
   "source": [
    "def circuit(n_qubits, layers):\n",
    "    circuit = Circuit()\n",
    "    free_enc_params = enc_params(n_qubits, layers)\n",
    "    free_rot_params = rot_params(n_qubits, layers)\n",
    "    for ii in range(layers):\n",
    "        circuit.add(encoding_layer(n_qubits, free_enc_params[ii]))\n",
    "        circuit.add(training_layer(n_qubits, free_rot_params[ii]))\n",
    "    return circuit"
   ]
  },
  {
   "cell_type": "code",
   "execution_count": null,
   "id": "1ae24a05-cbc3-4ffe-b3c8-305bccc47af2",
   "metadata": {},
   "outputs": [],
   "source": [
    "print(circuit(n_qubits, layers))"
   ]
  },
  {
   "cell_type": "code",
   "execution_count": null,
   "id": "7dcfdd90-211a-49e7-a75a-8cfb1547af47",
   "metadata": {},
   "outputs": [],
   "source": [
    "def init_params(n_qubits, layers):\n",
    "    params = {}\n",
    "    for ll in range(layers):\n",
    "        for nn in range(n_qubits):\n",
    "            name = f\"enc_l_{ll}_q_{nn}\"\n",
    "            params[name] = np.random.uniform(0, 2*np.pi)\n",
    "            for aa in range(3):\n",
    "                name = f\"rot_l_{ll}_q_{nn}_a_{aa}\"\n",
    "                params[name] = np.random.uniform(0, 2*np.pi)\n",
    "    return params"
   ]
  },
  {
   "cell_type": "code",
   "execution_count": null,
   "id": "63a7b441-f76f-42eb-be0d-f20a5d8fec0b",
   "metadata": {},
   "outputs": [],
   "source": [
    "device.run(circuit(n_qubits, layers), shots = 1000, inputs = init_params(n_qubits, layers)).result()"
   ]
  },
  {
   "cell_type": "code",
   "execution_count": null,
   "id": "bb4a9e8f-08a6-434c-bec7-1159771761dd",
   "metadata": {},
   "outputs": [],
   "source": [
    "def expectation(probs):\n",
    "    # use expectation value to predict efficiency\n",
    "    val = 0\n",
    "    for key, value in probs.items():\n",
    "        eig = 1\n",
    "        for char in key:\n",
    "            if char == \"1\":\n",
    "                eig *= -1\n",
    "        val += eig * value\n",
    "    return val\n",
    "\n",
    "def map_expval(expval, start, stop):\n",
    "    return start + (stop - start)/2 * (expval + 1)"
   ]
  },
  {
   "cell_type": "code",
   "execution_count": null,
   "id": "ff5d13c0-1500-4036-8563-cf35b69db934",
   "metadata": {},
   "outputs": [],
   "source": [
    "def classifier(probs, map_dict):\n",
    "    # use global classifer to predict efficiency\n",
    "    res = {}\n",
    "    for key, value in probs.items():\n",
    "        res.append(map_dict[key], value)\n",
    "    return res"
   ]
  },
  {
   "cell_type": "code",
   "execution_count": null,
   "id": "f8c43f0a-2651-404d-bfed-8078d12727bd",
   "metadata": {},
   "outputs": [],
   "source": [
    "def objective_function(circuit, params_dict, device, shots, tracker, verbose):\n",
    "    if verbose:\n",
    "        print(\"=\" * 80)\n",
    "        print(\"Calling the quantum circuit. Cycle:\", tracker[\"count\"])\n",
    "\n",
    "    # classically simulate the circuit\n",
    "    # set the parameter values using the inputs argument\n",
    "    # execute the correct device.run call depending on whether the backend is local or cloud based\n",
    "    if isinstance(device, LocalSimulator):\n",
    "        task = device.run(circuit, inputs=params_dict, shots = shots)\n",
    "    else:\n",
    "        task = device.run(\n",
    "            circuit,\n",
    "            shots=n_shots,\n",
    "            inputs=params_dict,\n",
    "            poll_timeout_seconds=3 * 24 * 60 * 60,\n",
    "        )\n",
    "\n",
    "    # get result for this task\n",
    "    result = task.result()\n",
    "    print(result.values)\n",
    "    measurement_probabilities = result.measurement_probabilities\n",
    "\n",
    "    expval = expectation(measurement_probabilities)\n",
    "    eff = map_expval(expval, 0, 1)\n",
    "\n",
    "    if verbose:\n",
    "        print(\"Expectation value:\", expval)\n",
    "        print(\"Mapped efficiency:\", eff)\n",
    "\n",
    "    # update tracker\n",
    "    tracker.update({\"count\": tracker[\"count\"] + 1, \"res\": result})\n",
    "    tracker[\"expval\"].append(expval)\n",
    "    tracker[\"params\"].append(params_dict)\n",
    "\n",
    "    return eff"
   ]
  },
  {
   "cell_type": "code",
   "execution_count": null,
   "id": "17f9edab-c641-44e4-8423-8efd877f5258",
   "metadata": {},
   "outputs": [],
   "source": [
    "# set tracker to keep track of results\n",
    "tracker = {\n",
    "    \"count\": 1,  # Elapsed optimization steps\n",
    "    \"expval\": [],  # Expectation at each step\n",
    "    \"res\": None,  # Quantum result object\n",
    "    \"params\": [],  # Track parameters\n",
    "}\n",
    "\n",
    "circ = circuit(n_qubits, layers)\n",
    "circ.expectation(Z(0) @ Z(1) @ Z(2))\n",
    "objective_function(circ, init_params(n_qubits, layers), device, 100, tracker, True) "
   ]
  }
 ],
 "metadata": {
  "kernelspec": {
   "display_name": "Python 3 (ipykernel)",
   "language": "python",
   "name": "python3"
  },
  "language_info": {
   "codemirror_mode": {
    "name": "ipython",
    "version": 3
   },
   "file_extension": ".py",
   "mimetype": "text/x-python",
   "name": "python",
   "nbconvert_exporter": "python",
   "pygments_lexer": "ipython3",
   "version": "3.12.10"
  }
 },
 "nbformat": 4,
 "nbformat_minor": 5
}
