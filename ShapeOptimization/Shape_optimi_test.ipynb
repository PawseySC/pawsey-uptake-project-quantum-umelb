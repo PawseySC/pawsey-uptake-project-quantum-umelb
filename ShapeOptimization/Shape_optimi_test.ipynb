{
 "cells": [
  {
   "cell_type": "markdown",
   "id": "6d82bbe3",
   "metadata": {},
   "source": [
    "# Airfoil optimization"
   ]
  },
  {
   "cell_type": "code",
   "execution_count": null,
   "id": "01e81e06",
   "metadata": {},
   "outputs": [],
   "source": [
    "from IPython.display import SVG, display\n",
    "\n",
    "\n",
    "#stuff for neurofoil - pip install neuralfoil\n",
    "from aerosandbox.geometry.airfoil.airfoil_families import get_kulfan_parameters, get_kulfan_coordinates\n",
    "import aerosandbox as asb\n",
    "import aerosandbox.numpy as np\n",
    "import matplotlib.pyplot as plt\n",
    "import aerosandbox.tools.pretty_plots as p\n",
    "\n",
    "\n",
    "import matplotlib.pyplot as plt\n",
    "import aerosandbox.tools.pretty_plots as p\n",
    "\n",
    "import sys\n",
    "import os"
   ]
  },
  {
   "cell_type": "markdown",
   "id": "ad94ef23",
   "metadata": {},
   "source": [
    "## Procedure "
   ]
  },
  {
   "cell_type": "markdown",
   "id": "5df10d0d",
   "metadata": {},
   "source": [
    "Sources:\n",
    "* http://servidor.demec.ufpr.br/CFD/bibliografia/aerodinamica/kulfan_2007.pdf\n",
    "* https://www.tandfonline.com/doi/epdf/10.1080/19942060.2024.2445144\n",
    "* https://github.com/peterdsharpe/NeuralFoil\n",
    "\n",
    "\n",
    "Here the PINN is allready trained an provides the prediction. Therefore, the idea is, we shift the quantum opt. part to approximate a policy. "
   ]
  },
  {
   "cell_type": "code",
   "execution_count": null,
   "id": "f5db3dc6",
   "metadata": {},
   "outputs": [],
   "source": [
    "display(SVG(filename=\"optimprocedure.svg\"))"
   ]
  },
  {
   "cell_type": "code",
   "execution_count": null,
   "id": "f3325b9f",
   "metadata": {},
   "outputs": [],
   "source": [
    "sys.path.append(os.path.abspath(\"../blade_design_tools\"))\n",
    "import create_airfoil\n",
    "airfoil_top_points, airfoil_bottom_points, camber_curve_points = create_airfoil.generate_shape(config_filepath=\"../blade_design_tools/airfoil_config.yaml\")"
   ]
  },
  {
   "cell_type": "code",
   "execution_count": null,
   "id": "b855ff62",
   "metadata": {},
   "outputs": [],
   "source": [
    "def get_neuralfoil_coordinates(airfoil_top_points, airfoil_bottom_points):\n",
    "    \"\"\"\n",
    "        stacking is up for neurofoil\n",
    "    \"\"\"\n",
    "    # Upper surface: reverse to go from TE to LE\n",
    "    upper_te_to_le = np.flip(airfoil_top_points, axis=0)\n",
    "\n",
    "    # Lower surface: LE to TE as is\n",
    "    lower_le_to_te = airfoil_bottom_points\n",
    "\n",
    "    # Check if LE points match (for sharp LE); avoid duplicating if so\n",
    "    if np.allclose(upper_te_to_le[-1], lower_le_to_te[0]):\n",
    "        coordinates = np.vstack((upper_te_to_le, lower_le_to_te[1:]))\n",
    "    else:\n",
    "        coordinates = np.vstack((upper_te_to_le, lower_le_to_te))\n",
    "    return coordinates\n",
    "\n",
    "\n",
    "# 7. Export for NeuralFoil\n",
    "coordinates = get_neuralfoil_coordinates(airfoil_top_points, airfoil_bottom_points)\n",
    "kulfan_params = get_kulfan_parameters(coordinates)\n",
    "print(\"Kulfan parameters:\", kulfan_params)"
   ]
  },
  {
   "cell_type": "code",
   "execution_count": null,
   "id": "bbb86b9f",
   "metadata": {},
   "outputs": [],
   "source": [
    "kulfan_airfoil = asb.KulfanAirfoil(name=\"State p'\", **kulfan_params)"
   ]
  },
  {
   "cell_type": "code",
   "execution_count": null,
   "id": "ab630877",
   "metadata": {},
   "outputs": [],
   "source": [
    "fig, ax = plt.subplots(figsize=(6, 2))\n",
    "kulfan_airfoil.draw()"
   ]
  },
  {
   "cell_type": "code",
   "execution_count": null,
   "id": "7ad91533",
   "metadata": {},
   "outputs": [],
   "source": [
    "initial_guess_airfoil = kulfan_airfoil\n",
    "opti = asb.Opti()"
   ]
  },
  {
   "cell_type": "code",
   "execution_count": null,
   "id": "881d8a65",
   "metadata": {},
   "outputs": [],
   "source": [
    "CL_multipoint_targets = np.array([0.8, 1.0, 1.2, 1.4, 1.5, 1.6])\n",
    "CL_multipoint_weights = np.array([5, 6, 7, 8, 9, 10])\n",
    "\n",
    "Re = 500e3 * (CL_multipoint_targets / 1.25) ** -0.5\n",
    "mach = 0.7"
   ]
  },
  {
   "cell_type": "code",
   "execution_count": null,
   "id": "9d9764e1",
   "metadata": {},
   "outputs": [],
   "source": [
    "optimized_airfoil = asb.KulfanAirfoil(\n",
    "    name=\"Optimized\",\n",
    "    lower_weights=opti.variable(\n",
    "        init_guess=initial_guess_airfoil.lower_weights,\n",
    "        lower_bound=-0.5,\n",
    "        upper_bound=0.25,\n",
    "    ),\n",
    "    upper_weights=opti.variable(\n",
    "        init_guess=initial_guess_airfoil.upper_weights,\n",
    "        lower_bound=-0.25,\n",
    "        upper_bound=0.5,\n",
    "    ),\n",
    "    leading_edge_weight=opti.variable(\n",
    "        init_guess=initial_guess_airfoil.leading_edge_weight,\n",
    "        lower_bound=-1,\n",
    "        upper_bound=1,\n",
    "    ),\n",
    "    TE_thickness=kulfan_params[\"TE_thickness\"],\n",
    ")\n",
    "\n",
    "alpha = opti.variable(\n",
    "    init_guess=45\n",
    ")"
   ]
  },
  {
   "cell_type": "code",
   "execution_count": null,
   "id": "75635b10",
   "metadata": {},
   "outputs": [],
   "source": [
    "# Why distinguish between aero and optimized airfoil\n",
    "aero = optimized_airfoil.get_aero_from_neuralfoil(\n",
    "    alpha=alpha,\n",
    "    Re=Re,\n",
    "    mach=mach,\n",
    ")"
   ]
  },
  {
   "cell_type": "markdown",
   "id": "b37a14f3",
   "metadata": {},
   "source": [
    "# Test optimization frame work\n",
    "### TODO's: \n",
    "- Implement real costfunction\n",
    "- Shape constraints\n",
    "- Implement the PPO, here we compare standard PPO vs. Quantum PPO"
   ]
  },
  {
   "cell_type": "code",
   "execution_count": null,
   "id": "1a0e17a1",
   "metadata": {},
   "outputs": [],
   "source": [
    "#Actor -> creates the points: \n",
    "#Critic -> rejects them \n",
    "\n",
    "opti.subject_to([\n",
    "    aero[\"analysis_confidence\"] > 0.90,\n",
    "    aero[\"CL\"] == CL_multipoint_targets,\n",
    "    np.diff(alpha) > 0,\n",
    "    aero[\"CM\"] >= -0.133,\n",
    "    optimized_airfoil.local_thickness(x_over_c=0.33) >= 0.128,\n",
    "    optimized_airfoil.local_thickness(x_over_c=0.90) >= 0.014,\n",
    "    optimized_airfoil.TE_angle() >= 6.03, \n",
    "    optimized_airfoil.lower_weights[0] < -0.05,\n",
    "    optimized_airfoil.upper_weights[0] > 0.05,\n",
    "    optimized_airfoil.local_thickness() > 0\n",
    "])\n",
    "\n",
    "get_wiggliness = lambda af: sum([\n",
    "    np.sum(np.diff(np.diff(array)) ** 2)\n",
    "    for array in [af.lower_weights, af.upper_weights]\n",
    "])\n",
    "\n",
    "opti.subject_to(\n",
    "    get_wiggliness(optimized_airfoil) < 2 * get_wiggliness(initial_guess_airfoil)\n",
    ")\n",
    "\n",
    "\n",
    "# Formulate an optimization goal based\n",
    "opti.maximize(np.mean(aero[\"CL\"] / aero[\"CD\"]))\n",
    "\n",
    "sol = opti.solve(\n",
    "    max_iter = 0,\n",
    "    behavior_on_failure=\"return_last\",\n",
    "    options={\n",
    "       # \"ipopt.mu_strategy\": 'monotone',\n",
    "       # \"ipopt.start_with_resto\": 'yes'\n",
    "    }\n",
    ")\n",
    "\n",
    "optimized_airfoil_0 = sol(optimized_airfoil)"
   ]
  },
  {
   "cell_type": "code",
   "execution_count": null,
   "id": "9f4fc0a6",
   "metadata": {},
   "outputs": [],
   "source": [
    "Re_plot = 500e3\n",
    "fig, ax = plt.subplots(1, 1, figsize=(7, 5))\n",
    "\n",
    "airfoils_and_colors = {\n",
    "    \"Initial Guess\"           : (initial_guess_airfoil, \"dimgray\"),\n",
    "    \"NeuralFoil-Optimized\"    : (optimized_airfoil_0, \"blue\")}\n",
    "\n",
    "for i, (name, (af, color)) in enumerate(airfoils_and_colors.items()):\n",
    "    color = p.adjust_lightness(color, 1)\n",
    "    ax.fill(\n",
    "        af.x(), af.y(),\n",
    "        facecolor=(*color, 0.09),\n",
    "        edgecolor=(*color, 0.6),\n",
    "        linewidth=1,\n",
    "        label=name,\n",
    "        linestyle=(3 * i, (7, 2)),\n",
    "        zorder=4 if \"NeuralFoil\" in name else 3,\n",
    "    )\n",
    "\n",
    "ax.legend(fontsize=11, loc=\"lower right\", ncol=len(airfoils_and_colors)//2)\n",
    "ax.set_title(\"Airfoil Shapes\")\n",
    "ax.set_xlabel(\"$x/c$\")\n",
    "ax.set_ylabel(\"$y/c$\")\n",
    "ax.axis('equal')\n",
    "\n",
    "p.show_plot(\"Comparison of NeuralFoil-Optimized - vs. init Guess\", legend=False)"
   ]
  },
  {
   "cell_type": "markdown",
   "id": "39c5959e",
   "metadata": {},
   "source": [
    "### Interface for NeuralFoil\n",
    "This provides the values employed for guiding the optimization, here the method call for `get_aero_from_neuralfoil` yields the following values. Question: how to use this parameter to approximate our loss value sought? \n",
    "\n",
    "```python\n",
    "return {\n",
    "            \"analysis_confidence\": nf_aero[\"analysis_confidence\"],\n",
    "            \"CL\": CL,\n",
    "            \"CD\": CD,\n",
    "            \"CM\": CM,\n",
    "            \"Cpmin\": Cpmin,\n",
    "            \"Top_Xtr\": Top_Xtr,\n",
    "            \"Bot_Xtr\": Bot_Xtr,\n",
    "            \"mach_crit\": mach_crit,\n",
    "            \"mach_dd\": mach_dd,\n",
    "            \"Cpmin_0\": Cpmin_0,\n",
    "            **{f\"upper_bl_theta_{i}\": nf_aero[f\"upper_bl_theta_{i}\"] for i in range(N)},\n",
    "            **{f\"upper_bl_H_{i}\": nf_aero[f\"upper_bl_H_{i}\"] for i in range(N)},\n",
    "            **{\n",
    "                f\"upper_bl_ue/vinf_{i}\": nf_aero[f\"upper_bl_ue/vinf_{i}\"]\n",
    "                for i in range(N)\n",
    "            },\n",
    "            **{f\"lower_bl_theta_{i}\": nf_aero[f\"lower_bl_theta_{i}\"] for i in range(N)},\n",
    "            **{f\"lower_bl_H_{i}\": nf_aero[f\"lower_bl_H_{i}\"] for i in range(N)},\n",
    "            **{\n",
    "                f\"lower_bl_ue/vinf_{i}\": nf_aero[f\"lower_bl_ue/vinf_{i}\"]\n",
    "                for i in range(N)\n",
    "            },\n",
    "        }\n",
    "```\n",
    "\n",
    "Hint the returns values such as CL are wrapped into Casadi type. Therefore we need to employ solve to evaluate the AD graph. "
   ]
  },
  {
   "cell_type": "code",
   "execution_count": null,
   "id": "303d594d",
   "metadata": {},
   "outputs": [],
   "source": [
    "# Having a look for aero at the start: -> needs to be validated agains the expeced ones\n",
    "resolved_values_0 = sol(aero)"
   ]
  },
  {
   "cell_type": "code",
   "execution_count": null,
   "id": "fecf8418",
   "metadata": {},
   "outputs": [],
   "source": [
    "#Lets perfom for 500 iterations:"
   ]
  },
  {
   "cell_type": "code",
   "execution_count": null,
   "id": "57d6dc90",
   "metadata": {},
   "outputs": [],
   "source": [
    "sol_2 = opti.solve(\n",
    "    max_iter = 1000,\n",
    "    behavior_on_failure=\"return_last\",\n",
    "    options={\n",
    "       # \"ipopt.mu_strategy\": 'monotone',\n",
    "       # \"ipopt.start_with_resto\": 'yes'\n",
    "    }\n",
    ")\n",
    "\n",
    "optimized_airfoil_1000 = sol_2(optimized_airfoil)\n",
    "resolved_values_1000 = sol_2(aero)"
   ]
  },
  {
   "cell_type": "code",
   "execution_count": null,
   "id": "e9c62629",
   "metadata": {},
   "outputs": [],
   "source": [
    "Re_plot = 500e3\n",
    "fig, ax = plt.subplots(1, 1, figsize=(7, 5))\n",
    "\n",
    "airfoils_and_colors = {\n",
    "    \"Initial Guess\"           : (initial_guess_airfoil, \"dimgray\"),\n",
    "    \"NeuralFoil-Optimized\"    : (optimized_airfoil_1000, \"blue\")}\n",
    "\n",
    "for i, (name, (af, color)) in enumerate(airfoils_and_colors.items()):\n",
    "    color = p.adjust_lightness(color, 1)\n",
    "    ax.fill(\n",
    "        af.x(), af.y(),\n",
    "        facecolor=(*color, 0.09),\n",
    "        edgecolor=(*color, 0.6),\n",
    "        linewidth=1,\n",
    "        label=name,\n",
    "        linestyle=(3 * i, (7, 2)),\n",
    "        zorder=4 if \"NeuralFoil\" in name else 3,\n",
    "    )\n",
    "\n",
    "ax.legend(fontsize=11, loc=\"lower right\", ncol=len(airfoils_and_colors)//2)\n",
    "ax.set_title(\"Airfoil Shapes\")\n",
    "ax.set_xlabel(\"$x/c$\")\n",
    "ax.set_ylabel(\"$y/c$\")\n",
    "ax.axis('equal')\n",
    "\n",
    "p.show_plot(\"Comparison of NeuralFoil-Optimized - vs. init Guess\", legend=False)"
   ]
  },
  {
   "cell_type": "code",
   "execution_count": 20,
   "id": "72255538",
   "metadata": {},
   "outputs": [
    {
     "name": "stdout",
     "output_type": "stream",
     "text": [
      "CD at 0 for the points: [1.27813715 1.2782529  1.2783494  1.27843238 1.27846993 1.2785053 ]\n",
      "CL at 0 for the points: [0.74863172 0.74863172 0.74863172 0.74863172 0.74863172 0.74863172]\n",
      "CD at 1000 for the points: [0.72260566 0.72272036 0.72281521 0.72289668 0.72293343 0.72296783]\n",
      "CL at 1000 for the points: [0.71851814 0.71853353 0.71854181 0.71854293 0.718542   0.71854087]\n"
     ]
    }
   ],
   "source": [
    "print(f\"CD at 0 for the points: {resolved_values_0['CD']}\")\n",
    "print(f\"CL at 0 for the points: {resolved_values_0['CL']}\")\n",
    "\n",
    "print(f\"CD at 1000 for the points: {resolved_values_1000['CD']}\")\n",
    "print(f\"CL at 1000 for the points: {resolved_values_1000['CL']}\")"
   ]
  },
  {
   "cell_type": "code",
   "execution_count": null,
   "id": "e8da36c2",
   "metadata": {},
   "outputs": [],
   "source": []
  }
 ],
 "metadata": {
  "kernelspec": {
   "display_name": "phd",
   "language": "python",
   "name": "phd"
  },
  "language_info": {
   "codemirror_mode": {
    "name": "ipython",
    "version": 3
   },
   "file_extension": ".py",
   "mimetype": "text/x-python",
   "name": "python",
   "nbconvert_exporter": "python",
   "pygments_lexer": "ipython3",
   "version": "3.9.19"
  }
 },
 "nbformat": 4,
 "nbformat_minor": 5
}
